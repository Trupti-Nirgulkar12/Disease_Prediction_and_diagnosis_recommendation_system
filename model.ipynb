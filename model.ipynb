{
 "cells": [
  {
   "cell_type": "markdown",
   "id": "6ce92f2c-7df1-492b-b5b8-83ee322712be",
   "metadata": {},
   "source": [
    "DISEASE PREDICTION AND MEDICINE RECOMMENDATION SYSTEM"
   ]
  },
  {
   "cell_type": "code",
   "execution_count": 1,
   "id": "6395a223-6fa0-4f7b-bab2-82c2421f1d61",
   "metadata": {},
   "outputs": [],
   "source": [
    "import pandas as pd "
   ]
  },
  {
   "cell_type": "code",
   "execution_count": 49,
   "id": "4ba754b4-83ae-49cd-808f-a62b3b5accc8",
   "metadata": {},
   "outputs": [],
   "source": [
    "X_train,X_test,y_train,y_test=train_test_split(X,y, test_size=0.3, random_state=20)"
   ]
  },
  {
   "cell_type": "code",
   "execution_count": 17,
   "id": "dd7c90bd-04df-4495-93e6-31affd4138b1",
   "metadata": {},
   "outputs": [],
   "source": [
    "dataset=pd.read_csv(\"Desktop/Project/datasets/Training.csv\")"
   ]
  },
  {
   "cell_type": "code",
   "execution_count": 19,
   "id": "491eb81c-7db8-4ca3-8538-e48920f7cf33",
   "metadata": {},
   "outputs": [
    {
     "data": {
      "text/html": [
       "<div>\n",
       "<style scoped>\n",
       "    .dataframe tbody tr th:only-of-type {\n",
       "        vertical-align: middle;\n",
       "    }\n",
       "\n",
       "    .dataframe tbody tr th {\n",
       "        vertical-align: top;\n",
       "    }\n",
       "\n",
       "    .dataframe thead th {\n",
       "        text-align: right;\n",
       "    }\n",
       "</style>\n",
       "<table border=\"1\" class=\"dataframe\">\n",
       "  <thead>\n",
       "    <tr style=\"text-align: right;\">\n",
       "      <th></th>\n",
       "      <th>itching</th>\n",
       "      <th>skin_rash</th>\n",
       "      <th>nodal_skin_eruptions</th>\n",
       "      <th>continuous_sneezing</th>\n",
       "      <th>shivering</th>\n",
       "      <th>chills</th>\n",
       "      <th>joint_pain</th>\n",
       "      <th>stomach_pain</th>\n",
       "      <th>acidity</th>\n",
       "      <th>ulcers_on_tongue</th>\n",
       "      <th>...</th>\n",
       "      <th>blackheads</th>\n",
       "      <th>scurring</th>\n",
       "      <th>skin_peeling</th>\n",
       "      <th>silver_like_dusting</th>\n",
       "      <th>small_dents_in_nails</th>\n",
       "      <th>inflammatory_nails</th>\n",
       "      <th>blister</th>\n",
       "      <th>red_sore_around_nose</th>\n",
       "      <th>yellow_crust_ooze</th>\n",
       "      <th>prognosis</th>\n",
       "    </tr>\n",
       "  </thead>\n",
       "  <tbody>\n",
       "    <tr>\n",
       "      <th>0</th>\n",
       "      <td>1</td>\n",
       "      <td>1</td>\n",
       "      <td>1</td>\n",
       "      <td>0</td>\n",
       "      <td>0</td>\n",
       "      <td>0</td>\n",
       "      <td>0</td>\n",
       "      <td>0</td>\n",
       "      <td>0</td>\n",
       "      <td>0</td>\n",
       "      <td>...</td>\n",
       "      <td>0</td>\n",
       "      <td>0</td>\n",
       "      <td>0</td>\n",
       "      <td>0</td>\n",
       "      <td>0</td>\n",
       "      <td>0</td>\n",
       "      <td>0</td>\n",
       "      <td>0</td>\n",
       "      <td>0</td>\n",
       "      <td>Fungal infection</td>\n",
       "    </tr>\n",
       "    <tr>\n",
       "      <th>1</th>\n",
       "      <td>0</td>\n",
       "      <td>1</td>\n",
       "      <td>1</td>\n",
       "      <td>0</td>\n",
       "      <td>0</td>\n",
       "      <td>0</td>\n",
       "      <td>0</td>\n",
       "      <td>0</td>\n",
       "      <td>0</td>\n",
       "      <td>0</td>\n",
       "      <td>...</td>\n",
       "      <td>0</td>\n",
       "      <td>0</td>\n",
       "      <td>0</td>\n",
       "      <td>0</td>\n",
       "      <td>0</td>\n",
       "      <td>0</td>\n",
       "      <td>0</td>\n",
       "      <td>0</td>\n",
       "      <td>0</td>\n",
       "      <td>Fungal infection</td>\n",
       "    </tr>\n",
       "    <tr>\n",
       "      <th>2</th>\n",
       "      <td>1</td>\n",
       "      <td>0</td>\n",
       "      <td>1</td>\n",
       "      <td>0</td>\n",
       "      <td>0</td>\n",
       "      <td>0</td>\n",
       "      <td>0</td>\n",
       "      <td>0</td>\n",
       "      <td>0</td>\n",
       "      <td>0</td>\n",
       "      <td>...</td>\n",
       "      <td>0</td>\n",
       "      <td>0</td>\n",
       "      <td>0</td>\n",
       "      <td>0</td>\n",
       "      <td>0</td>\n",
       "      <td>0</td>\n",
       "      <td>0</td>\n",
       "      <td>0</td>\n",
       "      <td>0</td>\n",
       "      <td>Fungal infection</td>\n",
       "    </tr>\n",
       "    <tr>\n",
       "      <th>3</th>\n",
       "      <td>1</td>\n",
       "      <td>1</td>\n",
       "      <td>0</td>\n",
       "      <td>0</td>\n",
       "      <td>0</td>\n",
       "      <td>0</td>\n",
       "      <td>0</td>\n",
       "      <td>0</td>\n",
       "      <td>0</td>\n",
       "      <td>0</td>\n",
       "      <td>...</td>\n",
       "      <td>0</td>\n",
       "      <td>0</td>\n",
       "      <td>0</td>\n",
       "      <td>0</td>\n",
       "      <td>0</td>\n",
       "      <td>0</td>\n",
       "      <td>0</td>\n",
       "      <td>0</td>\n",
       "      <td>0</td>\n",
       "      <td>Fungal infection</td>\n",
       "    </tr>\n",
       "    <tr>\n",
       "      <th>4</th>\n",
       "      <td>1</td>\n",
       "      <td>1</td>\n",
       "      <td>1</td>\n",
       "      <td>0</td>\n",
       "      <td>0</td>\n",
       "      <td>0</td>\n",
       "      <td>0</td>\n",
       "      <td>0</td>\n",
       "      <td>0</td>\n",
       "      <td>0</td>\n",
       "      <td>...</td>\n",
       "      <td>0</td>\n",
       "      <td>0</td>\n",
       "      <td>0</td>\n",
       "      <td>0</td>\n",
       "      <td>0</td>\n",
       "      <td>0</td>\n",
       "      <td>0</td>\n",
       "      <td>0</td>\n",
       "      <td>0</td>\n",
       "      <td>Fungal infection</td>\n",
       "    </tr>\n",
       "  </tbody>\n",
       "</table>\n",
       "<p>5 rows × 133 columns</p>\n",
       "</div>"
      ],
      "text/plain": [
       "   itching  skin_rash  nodal_skin_eruptions  continuous_sneezing  shivering  \\\n",
       "0        1          1                     1                    0          0   \n",
       "1        0          1                     1                    0          0   \n",
       "2        1          0                     1                    0          0   \n",
       "3        1          1                     0                    0          0   \n",
       "4        1          1                     1                    0          0   \n",
       "\n",
       "   chills  joint_pain  stomach_pain  acidity  ulcers_on_tongue  ...  \\\n",
       "0       0           0             0        0                 0  ...   \n",
       "1       0           0             0        0                 0  ...   \n",
       "2       0           0             0        0                 0  ...   \n",
       "3       0           0             0        0                 0  ...   \n",
       "4       0           0             0        0                 0  ...   \n",
       "\n",
       "   blackheads  scurring  skin_peeling  silver_like_dusting  \\\n",
       "0           0         0             0                    0   \n",
       "1           0         0             0                    0   \n",
       "2           0         0             0                    0   \n",
       "3           0         0             0                    0   \n",
       "4           0         0             0                    0   \n",
       "\n",
       "   small_dents_in_nails  inflammatory_nails  blister  red_sore_around_nose  \\\n",
       "0                     0                   0        0                     0   \n",
       "1                     0                   0        0                     0   \n",
       "2                     0                   0        0                     0   \n",
       "3                     0                   0        0                     0   \n",
       "4                     0                   0        0                     0   \n",
       "\n",
       "   yellow_crust_ooze         prognosis  \n",
       "0                  0  Fungal infection  \n",
       "1                  0  Fungal infection  \n",
       "2                  0  Fungal infection  \n",
       "3                  0  Fungal infection  \n",
       "4                  0  Fungal infection  \n",
       "\n",
       "[5 rows x 133 columns]"
      ]
     },
     "execution_count": 19,
     "metadata": {},
     "output_type": "execute_result"
    }
   ],
   "source": [
    "dataset.head()"
   ]
  },
  {
   "cell_type": "code",
   "execution_count": 25,
   "id": "f92b34ff-ee30-4cbf-a946-322eafca9251",
   "metadata": {},
   "outputs": [
    {
     "data": {
      "text/plain": [
       "(4920, 133)"
      ]
     },
     "execution_count": 25,
     "metadata": {},
     "output_type": "execute_result"
    }
   ],
   "source": [
    "dataset.shape"
   ]
  },
  {
   "cell_type": "code",
   "execution_count": 27,
   "id": "122510b8-cd5d-46f4-a9d3-e38dc23154e6",
   "metadata": {},
   "outputs": [
    {
     "data": {
      "text/plain": [
       "41"
      ]
     },
     "execution_count": 27,
     "metadata": {},
     "output_type": "execute_result"
    }
   ],
   "source": [
    "len(dataset['prognosis'].unique())"
   ]
  },
  {
   "cell_type": "code",
   "execution_count": 29,
   "id": "3081441c-5eea-4ddb-8e5c-f75482e407ed",
   "metadata": {
    "scrolled": true
   },
   "outputs": [
    {
     "data": {
      "text/plain": [
       "array(['Fungal infection', 'Allergy', 'GERD', 'Chronic cholestasis',\n",
       "       'Drug Reaction', 'Peptic ulcer diseae', 'AIDS', 'Diabetes ',\n",
       "       'Gastroenteritis', 'Bronchial Asthma', 'Hypertension ', 'Migraine',\n",
       "       'Cervical spondylosis', 'Paralysis (brain hemorrhage)', 'Jaundice',\n",
       "       'Malaria', 'Chicken pox', 'Dengue', 'Typhoid', 'hepatitis A',\n",
       "       'Hepatitis B', 'Hepatitis C', 'Hepatitis D', 'Hepatitis E',\n",
       "       'Alcoholic hepatitis', 'Tuberculosis', 'Common Cold', 'Pneumonia',\n",
       "       'Dimorphic hemmorhoids(piles)', 'Heart attack', 'Varicose veins',\n",
       "       'Hypothyroidism', 'Hyperthyroidism', 'Hypoglycemia',\n",
       "       'Osteoarthristis', 'Arthritis',\n",
       "       '(vertigo) Paroymsal  Positional Vertigo', 'Acne',\n",
       "       'Urinary tract infection', 'Psoriasis', 'Impetigo'], dtype=object)"
      ]
     },
     "execution_count": 29,
     "metadata": {},
     "output_type": "execute_result"
    }
   ],
   "source": [
    "dataset['prognosis'].unique()"
   ]
  },
  {
   "cell_type": "code",
   "execution_count": 37,
   "id": "c2aa801a-a761-4f98-9f5d-5aeab56faad1",
   "metadata": {},
   "outputs": [],
   "source": [
    "from sklearn.model_selection import train_test_split"
   ]
  },
  {
   "cell_type": "code",
   "execution_count": 47,
   "id": "a5c958c8-cd7c-48b6-9b63-9b360c2b2f44",
   "metadata": {},
   "outputs": [],
   "source": [
    "X=dataset.drop(\"prognosis\",axis=1)\n",
    "y=dataset[\"prognosis\"]"
   ]
  },
  {
   "cell_type": "code",
   "execution_count": 65,
   "id": "79da71b2-ce36-48ca-ba06-d356c64d0b2a",
   "metadata": {},
   "outputs": [],
   "source": [
    "from sklearn.preprocessing import LabelEncoder\n"
   ]
  },
  {
   "cell_type": "code",
   "execution_count": 67,
   "id": "8e881a73-758f-4e4b-8c76-4f13e700c2a4",
   "metadata": {},
   "outputs": [],
   "source": [
    "le=LabelEncoder()\n",
    "le.fit(y)\n",
    "Y=le.transform(y)"
   ]
  },
  {
   "cell_type": "code",
   "execution_count": 69,
   "id": "386d77d1-77a8-4f1e-9d2e-690227271bbb",
   "metadata": {},
   "outputs": [],
   "source": [
    "X_train, X_test, y_train, y_test = train_test_split(X, Y, test_size=0.3, random_state=20)"
   ]
  },
  {
   "cell_type": "code",
   "execution_count": 71,
   "id": "f858786f-1fc9-4841-acbc-dceef0285207",
   "metadata": {},
   "outputs": [
    {
     "data": {
      "text/plain": [
       "((3444, 132), (1476, 132), (3444,), (1476,))"
      ]
     },
     "execution_count": 71,
     "metadata": {},
     "output_type": "execute_result"
    }
   ],
   "source": [
    "X_train.shape, X_test.shape, y_train.shape,y_test.shape"
   ]
  },
  {
   "cell_type": "markdown",
   "id": "98bdce2f-2340-47cd-8992-b8eadabce6e8",
   "metadata": {},
   "source": [
    "Training data"
   ]
  },
  {
   "cell_type": "code",
   "execution_count": 104,
   "id": "9ee92da7-819b-4456-89d5-3b82bd1b5821",
   "metadata": {},
   "outputs": [
    {
     "name": "stdout",
     "output_type": "stream",
     "text": [
      "SVC accuracy:1.0\n",
      "SVC Confusion Matrix:\n",
      "[[40, 0, 0,..., 0, 0, 0],\n",
      " [ 0,43, 0,..., 0, 0, 0],\n",
      " [ 0, 0,28,..., 0, 0, 0],\n",
      " ...,\n",
      " [ 0, 0, 0,...,34, 0, 0],\n",
      " [ 0, 0, 0,..., 0,41, 0],\n",
      " [ 0, 0, 0,..., 0, 0,31]]\n",
      "RandomForest accuracy:1.0\n",
      "RandomForest Confusion Matrix:\n",
      "[[40, 0, 0,..., 0, 0, 0],\n",
      " [ 0,43, 0,..., 0, 0, 0],\n",
      " [ 0, 0,28,..., 0, 0, 0],\n",
      " ...,\n",
      " [ 0, 0, 0,...,34, 0, 0],\n",
      " [ 0, 0, 0,..., 0,41, 0],\n",
      " [ 0, 0, 0,..., 0, 0,31]]\n",
      "GradientBoosting accuracy:1.0\n",
      "GradientBoosting Confusion Matrix:\n",
      "[[40, 0, 0,..., 0, 0, 0],\n",
      " [ 0,43, 0,..., 0, 0, 0],\n",
      " [ 0, 0,28,..., 0, 0, 0],\n",
      " ...,\n",
      " [ 0, 0, 0,...,34, 0, 0],\n",
      " [ 0, 0, 0,..., 0,41, 0],\n",
      " [ 0, 0, 0,..., 0, 0,31]]\n",
      "KNeighbors accuracy:1.0\n",
      "KNeighbors Confusion Matrix:\n",
      "[[40, 0, 0,..., 0, 0, 0],\n",
      " [ 0,43, 0,..., 0, 0, 0],\n",
      " [ 0, 0,28,..., 0, 0, 0],\n",
      " ...,\n",
      " [ 0, 0, 0,...,34, 0, 0],\n",
      " [ 0, 0, 0,..., 0,41, 0],\n",
      " [ 0, 0, 0,..., 0, 0,31]]\n",
      "MultinomialNB accuracy:1.0\n",
      "MultinomialNB Confusion Matrix:\n",
      "[[40, 0, 0,..., 0, 0, 0],\n",
      " [ 0,43, 0,..., 0, 0, 0],\n",
      " [ 0, 0,28,..., 0, 0, 0],\n",
      " ...,\n",
      " [ 0, 0, 0,...,34, 0, 0],\n",
      " [ 0, 0, 0,..., 0,41, 0],\n",
      " [ 0, 0, 0,..., 0, 0,31]]\n"
     ]
    }
   ],
   "source": [
    "from sklearn.datasets import make_classification\n",
    "from sklearn.svm import SVC\n",
    "from sklearn.ensemble import RandomForestClassifier,GradientBoostingClassifier\n",
    "from sklearn.neighbors import KNeighborsClassifier\n",
    "from sklearn.naive_bayes import MultinomialNB\n",
    "\n",
    "from sklearn.metrics import accuracy_score, confusion_matrix\n",
    "import numpy as np\n",
    "#create a dictionary to store models \n",
    "models={\n",
    "    \"SVC\":SVC(kernel='linear'),\n",
    "    \"RandomForest\":RandomForestClassifier(n_estimators=100, random_state=42),\n",
    "    \"GradientBoosting\":GradientBoostingClassifier(n_estimators=100, random_state=42),\n",
    "    \"KNeighbors\":KNeighborsClassifier(n_neighbors=5),\n",
    "    \"MultinomialNB\":MultinomialNB()\n",
    "}\n",
    "for model_name,model in models.items():\n",
    "    #trainmodel\n",
    "    model.fit(X_train,y_train)\n",
    "    #testmodel\n",
    "    predictions=model.predict(X_test)\n",
    "\n",
    "    #calculateaccuracy\n",
    "    accuracy=accuracy_score(y_test,predictions)\n",
    "\n",
    "    #calculate confusion matrix\n",
    "    cm=confusion_matrix(y_test, predictions)\n",
    "    print(f\"{model_name} accuracy:{accuracy}\")\n",
    "    print(f\"{model_name} Confusion Matrix:\")\n",
    "    print(np.array2string(cm,separator=','))\n",
    "\n",
    "    "
   ]
  },
  {
   "cell_type": "markdown",
   "id": "170350c6-86c1-4e94-a4da-4fe6d4b19c74",
   "metadata": {},
   "source": [
    "single prediction"
   ]
  },
  {
   "cell_type": "code",
   "execution_count": 107,
   "id": "9a24710f-c9ef-43e7-97e2-ba0d917e574a",
   "metadata": {},
   "outputs": [
    {
     "data": {
      "text/plain": [
       "1.0"
      ]
     },
     "execution_count": 107,
     "metadata": {},
     "output_type": "execute_result"
    }
   ],
   "source": [
    "svc=SVC(kernel='linear')\n",
    "svc.fit(X_train,y_train)\n",
    "ypred=svc.predict(X_test)\n",
    "accuracy_score(y_test,ypred)"
   ]
  },
  {
   "cell_type": "code",
   "execution_count": null,
   "id": "3705f39b-2928-46d4-bec3-a5647828770a",
   "metadata": {},
   "outputs": [],
   "source": [
    "import pickle\n",
    "pickle.dump(svc,open(\"models/svc.pkl\",'wb'))"
   ]
  }
 ],
 "metadata": {
  "kernelspec": {
   "display_name": "Python 3 (ipykernel)",
   "language": "python",
   "name": "python3"
  },
  "language_info": {
   "codemirror_mode": {
    "name": "ipython",
    "version": 3
   },
   "file_extension": ".py",
   "mimetype": "text/x-python",
   "name": "python",
   "nbconvert_exporter": "python",
   "pygments_lexer": "ipython3",
   "version": "3.12.4"
  }
 },
 "nbformat": 4,
 "nbformat_minor": 5
}
